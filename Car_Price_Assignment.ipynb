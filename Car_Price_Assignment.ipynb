{
  "nbformat": 4,
  "nbformat_minor": 0,
  "metadata": {
    "colab": {
      "provenance": []
    },
    "kernelspec": {
      "name": "python3",
      "display_name": "Python 3"
    },
    "language_info": {
      "name": "python"
    }
  },
  "cells": [
    {
      "cell_type": "code",
      "execution_count": null,
      "metadata": {
        "id": "D0CldDWeMixy"
      },
      "outputs": [],
      "source": [
        "import pandas as pd\n",
        "import matplotlib.pyplot as plt\n",
        "import seaborn as sns\n",
        "from sklearn.model_selection import train_test_split\n",
        "from sklearn.preprocessing import LabelEncoder\n",
        "from sklearn.linear_model import LinearRegression\n",
        "from sklearn.metrics import mean_absolute_error, mean_squared_error, r2_score\n",
        "\n",
        "# Charger le fichier CSV\n",
        "data = pd.read_csv('vehicles.csv')\n",
        "\n",
        "# Afficher un aperçu des données\n",
        "print(data.head())\n",
        "print(data.info())\n",
        "\n",
        "# Distribution des prix\n",
        "plt.figure(figsize=(12, 6))\n",
        "sns.histplot(data['price'], bins=100, kde=True, color='blue')\n",
        "plt.title('Distribution of Car Prices')\n",
        "plt.xlabel('Price ($)')\n",
        "plt.ylabel('Frequency')\n",
        "plt.xlim(0, 100000)  # Limite pour visualisation\n",
        "plt.show()\n",
        "\n",
        "# Corrélation entre les colonnes numériques\n",
        "numerical_cols = ['price', 'year', 'odometer']\n",
        "plt.figure(figsize=(10, 8))\n",
        "sns.heatmap(data[numerical_cols].corr(), annot=True, cmap='coolwarm', vmin=-1, vmax=1)\n",
        "plt.title('Correlation Matrix for Numerical Features')\n",
        "plt.show()\n",
        "\n",
        "# Préparation des données\n",
        "# Retirer les lignes avec des prix égaux à 0 ou non valides\n",
        "data = data[data['price'] > 0]\n",
        "\n",
        "# Remplir les valeurs manquantes pour les colonnes importantes (exemple)\n",
        "data['year'].fillna(data['year'].median(), inplace=True)\n",
        "data['odometer'].fillna(data['odometer'].median(), inplace=True)\n",
        "\n",
        "# Encodage des variables catégorielles\n",
        "encoder = LabelEncoder()\n",
        "categorical_cols = ['manufacturer', 'fuel', 'transmission', 'condition', 'drive', 'type', 'state']\n",
        "for col in categorical_cols:\n",
        "    data[col] = data[col].astype(str)  # Convertir en chaîne de caractères si nécessaire\n",
        "    data[col] = encoder.fit_transform(data[col])\n",
        "\n",
        "# Séparation des caractéristiques et de la cible\n",
        "X = data[['year', 'odometer', 'manufacturer', 'fuel', 'transmission', 'condition']]\n",
        "y = data['price']\n",
        "\n",
        "# Division des données en ensembles d'entraînement et de test\n",
        "X_train, X_test, y_train, y_test = train_test_split(X, y, test_size=0.2, random_state=42)\n",
        "\n",
        "# Modélisation initiale avec régression linéaire\n",
        "model = LinearRegression()\n",
        "model.fit(X_train, y_train)\n",
        "\n",
        "# Prédiction et évaluation\n",
        "y_pred = model.predict(X_test)\n",
        "print(\"Mean Absolute Error:\", mean_absolute_error(y_test, y_pred))\n",
        "print(\"Mean Squared Error:\", mean_squared_error(y_test, y_pred))\n",
        "print(\"R-squared Score:\", r2_score(y_test, y_pred))\n",
        "\n",
        "# Visualisation des résultats de la régression\n",
        "plt.figure(figsize=(10, 6))\n",
        "plt.scatter(y_test, y_pred, alpha=0.3)\n",
        "plt.plot([y_test.min(), y_test.max()], [y_test.min(), y_test.max()], '--', color='red')\n",
        "plt.xlabel('Actual Prices')\n",
        "plt.ylabel('Predicted Prices')\n",
        "plt.title('Actual vs Predicted Prices')\n",
        "plt.show()"
      ]
    }
  ]
}